{
 "cells": [
  {
   "cell_type": "markdown",
   "metadata": {
    "papermill": {
     "duration": 0.019446,
     "end_time": "2020-12-06T04:22:20.135882",
     "exception": false,
     "start_time": "2020-12-06T04:22:20.116436",
     "status": "completed"
    },
    "tags": []
   },
   "source": [
    "# Multi Category Shop  -  Data Preprocessing\n",
    "\n",
    "We will apply some Data Mining techniques to transform the data in a useful and efficient format to do our customer analysis."
   ]
  },
  {
   "cell_type": "code",
   "execution_count": 1,
   "metadata": {
    "_kg_hide-input": true,
    "execution": {
     "iopub.execute_input": "2020-12-06T04:22:20.181846Z",
     "iopub.status.busy": "2020-12-06T04:22:20.180969Z",
     "iopub.status.idle": "2020-12-06T04:22:21.867991Z",
     "shell.execute_reply": "2020-12-06T04:22:21.867248Z"
    },
    "papermill": {
     "duration": 1.713484,
     "end_time": "2020-12-06T04:22:21.868152",
     "exception": false,
     "start_time": "2020-12-06T04:22:20.154668",
     "status": "completed"
    },
    "tags": []
   },
   "outputs": [],
   "source": [
    "# import modules\n",
    "import numpy as np\n",
    "import pandas as pd\n",
    "from datetime import datetime\n",
    "from datetime import timedelta\n",
    "import os\n",
    "\n",
    "import random\n",
    "from scipy import stats\n",
    "from sklearn.preprocessing import StandardScaler\n",
    "from sklearn.cluster import KMeans\n",
    "\n",
    "import matplotlib as mpl\n",
    "import matplotlib.pyplot as plt\n",
    "import seaborn as sns\n",
    "from mpl_toolkits.mplot3d import Axes3D\n",
    "sns.set()\n",
    "\n",
    "\n",
    "import warnings\n",
    "# current version of seaborn generates a bunch of warnings that we'll ignore\n",
    "warnings.filterwarnings('ignore')\n",
    "sns.set_style('whitegrid')\n",
    "\n",
    "import calendar\n",
    "import datetime\n",
    "import gc\n",
    "\n",
    "from scipy import stats\n",
    "from scipy.stats import skew, norm, probplot, boxcox\n",
    "\n",
    "from sklearn import preprocessing\n",
    "\n",
    "# this is needed for show figure in the notebook\n",
    "%matplotlib inline\n",
    "color = sns.color_palette()"
   ]
  },
  {
   "cell_type": "code",
   "execution_count": 2,
   "metadata": {},
   "outputs": [],
   "source": [
    "import pathlib\n",
    "base_path = str(pathlib.Path().resolve())"
   ]
  },
  {
   "cell_type": "code",
   "execution_count": 3,
   "metadata": {
    "_cell_guid": "b1076dfc-b9ad-4769-8c92-a6c4dae69d19",
    "_kg_hide-input": true,
    "_uuid": "8f2839f25d086af736a60e9eeb907d3b93b6e0e5",
    "execution": {
     "iopub.execute_input": "2020-12-06T04:22:21.916442Z",
     "iopub.status.busy": "2020-12-06T04:22:21.915516Z",
     "iopub.status.idle": "2020-12-06T04:23:42.832839Z",
     "shell.execute_reply": "2020-12-06T04:23:42.832138Z"
    },
    "papermill": {
     "duration": 80.946513,
     "end_time": "2020-12-06T04:23:42.832971",
     "exception": false,
     "start_time": "2020-12-06T04:22:21.886458",
     "status": "completed"
    },
    "tags": []
   },
   "outputs": [
    {
     "name": "stdout",
     "output_type": "stream",
     "text": [
      "i:  0\n",
      "end  0\n",
      "i:  1\n",
      "end  1\n",
      "i:  2\n",
      "end  2\n",
      "i:  3\n",
      "end  3\n",
      "i:  4\n",
      "end  4\n",
      "i:  5\n",
      "end  5\n",
      "i:  6\n",
      "end  6\n",
      "The dataframe has 6848824 rows and 5 columns.\n",
      "\n",
      "Shown below are the first 3 rows of the dataframe:\n",
      "\n"
     ]
    },
    {
     "data": {
      "text/html": [
       "<div>\n",
       "<style scoped>\n",
       "    .dataframe tbody tr th:only-of-type {\n",
       "        vertical-align: middle;\n",
       "    }\n",
       "\n",
       "    .dataframe tbody tr th {\n",
       "        vertical-align: top;\n",
       "    }\n",
       "\n",
       "    .dataframe thead th {\n",
       "        text-align: right;\n",
       "    }\n",
       "</style>\n",
       "<table border=\"1\" class=\"dataframe\">\n",
       "  <thead>\n",
       "    <tr style=\"text-align: right;\">\n",
       "      <th></th>\n",
       "      <th>event_time</th>\n",
       "      <th>event_type</th>\n",
       "      <th>price</th>\n",
       "      <th>user_id</th>\n",
       "      <th>month</th>\n",
       "    </tr>\n",
       "  </thead>\n",
       "  <tbody>\n",
       "    <tr>\n",
       "      <th>0</th>\n",
       "      <td>2019-10-01 00:02:14 UTC</td>\n",
       "      <td>purchase</td>\n",
       "      <td>130.76</td>\n",
       "      <td>543272936</td>\n",
       "      <td>Oct</td>\n",
       "    </tr>\n",
       "    <tr>\n",
       "      <th>1</th>\n",
       "      <td>2019-10-01 00:04:37 UTC</td>\n",
       "      <td>purchase</td>\n",
       "      <td>642.69</td>\n",
       "      <td>551377651</td>\n",
       "      <td>Oct</td>\n",
       "    </tr>\n",
       "    <tr>\n",
       "      <th>2</th>\n",
       "      <td>2019-10-01 00:06:02 UTC</td>\n",
       "      <td>purchase</td>\n",
       "      <td>29.51</td>\n",
       "      <td>514591159</td>\n",
       "      <td>Oct</td>\n",
       "    </tr>\n",
       "  </tbody>\n",
       "</table>\n",
       "</div>"
      ],
      "text/plain": [
       "                event_time event_type   price    user_id month\n",
       "0  2019-10-01 00:02:14 UTC   purchase  130.76  543272936   Oct\n",
       "1  2019-10-01 00:04:37 UTC   purchase  642.69  551377651   Oct\n",
       "2  2019-10-01 00:06:02 UTC   purchase   29.51  514591159   Oct"
      ]
     },
     "metadata": {},
     "output_type": "display_data"
    }
   ],
   "source": [
    "# load data by combining file to obtain one single dataset\n",
    "\n",
    "files_csv=['/archive_complete/2019-Oct.csv', \n",
    "           '/archive_complete/2019-Nov.csv',\n",
    "           '/archive_complete/2019-Dec.csv',\n",
    "           '/archive_complete/2020-Jan.csv',\n",
    "           '/archive_complete/2020-Feb.csv',\n",
    "           '/archive_complete/2020-Mar.csv',\n",
    "           '/archive_complete/2020-Apr.csv']\n",
    "        \n",
    "# create Pandas dataframes\n",
    "frame=[]\n",
    "for i in range(len(files_csv)):\n",
    "    print(\"i: \", i)\n",
    "    df_i=pd.read_csv(base_path + files_csv[i])\n",
    "    df_i['month']=files_csv[i][-7:-4]\n",
    "    frame.append(df_i)\n",
    "    print(\"end \", i)\n",
    "data=pd.concat(frame,ignore_index=True,sort=False)\n",
    "\n",
    "# a quick examination of the dataframe\n",
    "print(\"The dataframe has {} rows and {} columns.\\n\".format(data.shape[0], data.shape[1]))\n",
    "print(\"Shown below are the first 3 rows of the dataframe:\\n\")\n",
    "pd.set_option('display.max_columns', 100)\n",
    "display(data.head(3))"
   ]
  },
  {
   "cell_type": "code",
   "execution_count": 4,
   "metadata": {},
   "outputs": [],
   "source": [
    "# we are interested only in events of type 'purchase', so we extract those data\n",
    "purchasedata = data[data['event_type']=='purchase']"
   ]
  },
  {
   "cell_type": "code",
   "execution_count": 5,
   "metadata": {},
   "outputs": [
    {
     "data": {
      "text/html": [
       "<div>\n",
       "<style scoped>\n",
       "    .dataframe tbody tr th:only-of-type {\n",
       "        vertical-align: middle;\n",
       "    }\n",
       "\n",
       "    .dataframe tbody tr th {\n",
       "        vertical-align: top;\n",
       "    }\n",
       "\n",
       "    .dataframe thead th {\n",
       "        text-align: right;\n",
       "    }\n",
       "</style>\n",
       "<table border=\"1\" class=\"dataframe\">\n",
       "  <thead>\n",
       "    <tr style=\"text-align: right;\">\n",
       "      <th></th>\n",
       "      <th>event_time</th>\n",
       "      <th>event_type</th>\n",
       "      <th>price</th>\n",
       "      <th>user_id</th>\n",
       "      <th>month</th>\n",
       "    </tr>\n",
       "  </thead>\n",
       "  <tbody>\n",
       "    <tr>\n",
       "      <th>0</th>\n",
       "      <td>2019-10-01 00:02:14 UTC</td>\n",
       "      <td>purchase</td>\n",
       "      <td>130.76</td>\n",
       "      <td>543272936</td>\n",
       "      <td>Oct</td>\n",
       "    </tr>\n",
       "    <tr>\n",
       "      <th>1</th>\n",
       "      <td>2019-10-01 00:04:37 UTC</td>\n",
       "      <td>purchase</td>\n",
       "      <td>642.69</td>\n",
       "      <td>551377651</td>\n",
       "      <td>Oct</td>\n",
       "    </tr>\n",
       "    <tr>\n",
       "      <th>2</th>\n",
       "      <td>2019-10-01 00:06:02 UTC</td>\n",
       "      <td>purchase</td>\n",
       "      <td>29.51</td>\n",
       "      <td>514591159</td>\n",
       "      <td>Oct</td>\n",
       "    </tr>\n",
       "    <tr>\n",
       "      <th>3</th>\n",
       "      <td>2019-10-01 00:07:07 UTC</td>\n",
       "      <td>purchase</td>\n",
       "      <td>54.42</td>\n",
       "      <td>555332717</td>\n",
       "      <td>Oct</td>\n",
       "    </tr>\n",
       "    <tr>\n",
       "      <th>4</th>\n",
       "      <td>2019-10-01 00:09:26 UTC</td>\n",
       "      <td>purchase</td>\n",
       "      <td>189.91</td>\n",
       "      <td>524601178</td>\n",
       "      <td>Oct</td>\n",
       "    </tr>\n",
       "  </tbody>\n",
       "</table>\n",
       "</div>"
      ],
      "text/plain": [
       "                event_time event_type   price    user_id month\n",
       "0  2019-10-01 00:02:14 UTC   purchase  130.76  543272936   Oct\n",
       "1  2019-10-01 00:04:37 UTC   purchase  642.69  551377651   Oct\n",
       "2  2019-10-01 00:06:02 UTC   purchase   29.51  514591159   Oct\n",
       "3  2019-10-01 00:07:07 UTC   purchase   54.42  555332717   Oct\n",
       "4  2019-10-01 00:09:26 UTC   purchase  189.91  524601178   Oct"
      ]
     },
     "execution_count": 5,
     "metadata": {},
     "output_type": "execute_result"
    }
   ],
   "source": [
    "purchasedata.head()"
   ]
  },
  {
   "cell_type": "markdown",
   "metadata": {},
   "source": [
    "# Customer Segmentation\n",
    "\n",
    "Customer segmentation is similarly the process of dividing an organization’s customer bases into different sections or segments based on various customer attributes. The process of customer segmentation is based on the premise of finding differences among the customers’ behavior and patterns.\n",
    "\n",
    "The major objectives and benefits behind the motivation for customer segmentation are:\n",
    "\n",
    "- **Higher Revenue**: This is the most obvious requirement of any customer segmentation project.\n",
    "- **Customer Understanding**: One of the mostly widely accepted business paradigms is “know your customer” and a segmentation of the customer base allows for a perfect dissection of this paradigm.\n",
    "- **Target Marketing**: The most visible reason for customer segmentation is the ability to focus marketing efforts effectively and efficiently. If a firm knows the different segments of its customer base, it can devise better marketing campaigns which are tailor made for the segment. A good segmentation model allows for better understanding of customer requirements and hence increases the chances of the success of any marketing campaign developed by the organization.\n",
    "- **Optimal Product Placement**: A good customer segmentation strategy can also help the firm with developing or offering new products, or a bundle of products together as a combined offering.\n",
    "- **Finding Latent Customer Segments**: Finding out which segment of customers it might be missing to identifying untapped customer segments by focused on marketing campaigns or new business development.\n",
    "\n",
    "\n",
    "**Clustering:**\n",
    "\n",
    "The most obvious method to perform customer segmentation is using unsupervised Machine Learning methods like clustering. The method is as simple as collecting as much data about the customers as possible in the form of features or attributes and then finding out the different clusters that can be obtained from that data. Finally, we can find traits of customer segments by analyzing the characteristics of the clusters.\n",
    "\n",
    "\n",
    "**RFM Model for Customer Value:**\n",
    "\n",
    "Since our dataset is limited to the sales records, and didn´t include anothers information about our customers, we will use a RFM,*Recency, Frequency and Monetary Value, based model of customer value for finding our customer segments.\n",
    "\n",
    "The RFM model will take the transactions of a customer and calculate three important informational attributes about each customer:\n",
    "- **Recency**: The value of how recently a customer purchased at the establishment\n",
    "- **Frequency**: How frequent the customer’s transactions are at the establishment\n",
    "- **Monetary value**: The dollar (or pounds in our case) value of all the transactions that the customer made at the establishment"
   ]
  },
  {
   "cell_type": "markdown",
   "metadata": {
    "papermill": {
     "duration": 0.019251,
     "end_time": "2020-12-06T04:23:42.871637",
     "exception": false,
     "start_time": "2020-12-06T04:23:42.852386",
     "status": "completed"
    },
    "tags": []
   },
   "source": [
    "### Part I: Initial Data Preparation and Exploration"
   ]
  },
  {
   "cell_type": "markdown",
   "metadata": {
    "papermill": {
     "duration": 0.019243,
     "end_time": "2020-12-06T04:23:42.912086",
     "exception": false,
     "start_time": "2020-12-06T04:23:42.892843",
     "status": "completed"
    },
    "tags": []
   },
   "source": [
    "&nbsp;&nbsp;&nbsp;&nbsp;&nbsp;&nbsp;&nbsp;&nbsp;Since the goal was to segment customers to help with marketing campaigns, to start with the simple but very effective RFM model (the RFM analysis is based on 3 factors – how recently (Recency), how often (Frequency), and how much (Monetary Value) did the customer buy) the rows and columns needed have been selected, duplicate records have been deleted, and some data type conversion have been performed."
   ]
  },
  {
   "cell_type": "code",
   "execution_count": 6,
   "metadata": {},
   "outputs": [],
   "source": [
    "#seperating timezone\n",
    "purchasedata[\"timezone\"]= purchasedata[\"event_time\"].str.rsplit(\" \", n=1,expand = True)[1]\n",
    "purchasedata[\"event_time\"]= purchasedata[\"event_time\"].str.rsplit(\" \", n=1,expand = True)[0]\n",
    "purchasedata[\"event_time\"]=pd.to_datetime(purchasedata[\"event_time\"])\n",
    "\n",
    "#creating date,time,hours,weekday,weeknum columns\n",
    "purchasedata[\"date\"]=purchasedata['event_time'].dt.date\n",
    "purchasedata[\"time\"]=purchasedata['event_time'].dt.time\n",
    "purchasedata[\"hours\"]=purchasedata['event_time'].dt.hour\n",
    "purchasedata[\"weekday\"]=purchasedata['event_time'].dt.weekday\n",
    "purchasedata['weeknum']=purchasedata['event_time'].dt.isocalendar().week\n",
    "\n",
    "#changing weekday to string and adding 'week_' prefix to weeknum\n",
    "purchasedata['weeknum'] = 'week_' + purchasedata['weeknum'].astype(str)\n",
    "purchasedata['weekday']= purchasedata['weekday'].replace({0:'Mon',1:'Tues',2:'Wed',3:'Thurs',4:'Fri',5:'Sat',6:'Sun'})"
   ]
  },
  {
   "cell_type": "code",
   "execution_count": 7,
   "metadata": {
    "_kg_hide-input": true,
    "execution": {
     "iopub.execute_input": "2020-12-06T04:23:46.147517Z",
     "iopub.status.busy": "2020-12-06T04:23:46.146662Z",
     "iopub.status.idle": "2020-12-06T04:23:54.159047Z",
     "shell.execute_reply": "2020-12-06T04:23:54.158237Z"
    },
    "papermill": {
     "duration": 11.227444,
     "end_time": "2020-12-06T04:23:54.159201",
     "exception": false,
     "start_time": "2020-12-06T04:23:42.931757",
     "status": "completed"
    },
    "tags": []
   },
   "outputs": [
    {
     "name": "stdout",
     "output_type": "stream",
     "text": [
      "After data selection and cleansing, the dataframe has 6697266 rows, 11 columns, and 0 null value.\n",
      "\n",
      "Shown below are the first 3 rows of the cleaned dataframe:\n",
      "\n"
     ]
    },
    {
     "data": {
      "text/html": [
       "<div>\n",
       "<style scoped>\n",
       "    .dataframe tbody tr th:only-of-type {\n",
       "        vertical-align: middle;\n",
       "    }\n",
       "\n",
       "    .dataframe tbody tr th {\n",
       "        vertical-align: top;\n",
       "    }\n",
       "\n",
       "    .dataframe thead th {\n",
       "        text-align: right;\n",
       "    }\n",
       "</style>\n",
       "<table border=\"1\" class=\"dataframe\">\n",
       "  <thead>\n",
       "    <tr style=\"text-align: right;\">\n",
       "      <th></th>\n",
       "      <th>event_time</th>\n",
       "      <th>event_type</th>\n",
       "      <th>price</th>\n",
       "      <th>user_id</th>\n",
       "      <th>month</th>\n",
       "      <th>timezone</th>\n",
       "      <th>date</th>\n",
       "      <th>time</th>\n",
       "      <th>hours</th>\n",
       "      <th>weekday</th>\n",
       "      <th>weeknum</th>\n",
       "    </tr>\n",
       "  </thead>\n",
       "  <tbody>\n",
       "    <tr>\n",
       "      <th>0</th>\n",
       "      <td>2019-10-01 00:02:14</td>\n",
       "      <td>purchase</td>\n",
       "      <td>130.76</td>\n",
       "      <td>543272936</td>\n",
       "      <td>Oct</td>\n",
       "      <td>UTC</td>\n",
       "      <td>2019-10-01</td>\n",
       "      <td>00:02:14</td>\n",
       "      <td>0</td>\n",
       "      <td>Tues</td>\n",
       "      <td>week_40</td>\n",
       "    </tr>\n",
       "    <tr>\n",
       "      <th>1</th>\n",
       "      <td>2019-10-01 00:04:37</td>\n",
       "      <td>purchase</td>\n",
       "      <td>642.69</td>\n",
       "      <td>551377651</td>\n",
       "      <td>Oct</td>\n",
       "      <td>UTC</td>\n",
       "      <td>2019-10-01</td>\n",
       "      <td>00:04:37</td>\n",
       "      <td>0</td>\n",
       "      <td>Tues</td>\n",
       "      <td>week_40</td>\n",
       "    </tr>\n",
       "    <tr>\n",
       "      <th>2</th>\n",
       "      <td>2019-10-01 00:06:02</td>\n",
       "      <td>purchase</td>\n",
       "      <td>29.51</td>\n",
       "      <td>514591159</td>\n",
       "      <td>Oct</td>\n",
       "      <td>UTC</td>\n",
       "      <td>2019-10-01</td>\n",
       "      <td>00:06:02</td>\n",
       "      <td>0</td>\n",
       "      <td>Tues</td>\n",
       "      <td>week_40</td>\n",
       "    </tr>\n",
       "  </tbody>\n",
       "</table>\n",
       "</div>"
      ],
      "text/plain": [
       "           event_time event_type   price    user_id month timezone  \\\n",
       "0 2019-10-01 00:02:14   purchase  130.76  543272936   Oct      UTC   \n",
       "1 2019-10-01 00:04:37   purchase  642.69  551377651   Oct      UTC   \n",
       "2 2019-10-01 00:06:02   purchase   29.51  514591159   Oct      UTC   \n",
       "\n",
       "         date      time  hours weekday  weeknum  \n",
       "0  2019-10-01  00:02:14      0    Tues  week_40  \n",
       "1  2019-10-01  00:04:37      0    Tues  week_40  \n",
       "2  2019-10-01  00:06:02      0    Tues  week_40  "
      ]
     },
     "metadata": {},
     "output_type": "display_data"
    }
   ],
   "source": [
    "# data preparation\n",
    "\n",
    "# step 1: removing samples with negative price\n",
    "purchasedata = purchasedata[purchasedata['price'] >= 0]\n",
    "\n",
    "# step 2: drop duplicates\n",
    "purchasedata = purchasedata.drop_duplicates()\n",
    "\n",
    "# step 2: drop \"category_code\", \"brand\", \"product_id\", \"category_id\", and \"user_session\"\n",
    "# purchasedata = purchasedata.drop(columns=['category_code','brand','product_id','category_id','user_session'])\n",
    "\n",
    "# step 4: convert \"event_time\" to DateTime format\n",
    "purchasedata['event_time'] = pd.to_datetime(purchasedata['event_time'], infer_datetime_format=True)\n",
    "\n",
    "nullcolumns = purchasedata.isnull().sum()\n",
    "nullnumbers = len(nullcolumns[nullcolumns!=0])\n",
    "print(\"After data selection and cleansing, the dataframe has {} rows, {} columns, and {} null value.\\n\".format(purchasedata.shape[0], purchasedata.shape[1],nullnumbers))\n",
    "print(\"Shown below are the first 3 rows of the cleaned dataframe:\\n\")\n",
    "display(purchasedata.head(3))"
   ]
  },
  {
   "cell_type": "code",
   "execution_count": 22,
   "metadata": {
    "_kg_hide-input": true,
    "execution": {
     "iopub.execute_input": "2020-12-06T04:23:54.258722Z",
     "iopub.status.busy": "2020-12-06T04:23:54.257889Z",
     "iopub.status.idle": "2020-12-06T04:23:56.055853Z",
     "shell.execute_reply": "2020-12-06T04:23:56.055037Z"
    },
    "papermill": {
     "duration": 1.833136,
     "end_time": "2020-12-06T04:23:56.055981",
     "exception": false,
     "start_time": "2020-12-06T04:23:54.222845",
     "status": "completed"
    },
    "tags": []
   },
   "outputs": [
    {
     "data": {
      "image/png": "[encoded data removed]",
      "text/plain": [
       "<Figure size 720x576 with 3 Axes>"
      ]
     },
     "metadata": {
      "needs_background": "light"
     },
     "output_type": "display_data"
    }
   ],
   "source": [
    "# initial data exploration\n",
    "\n",
    "plt.figure(figsize=(10,8))\n",
    "\n",
    "# plot the number of customers each day \n",
    "plt.axes([0.08, 0.4, 0.87, 0.4])\n",
    "purchasedata_n_user = purchasedata.resample(\"D\",on='event_time')['user_id'].nunique()\n",
    "purchasedata_n_user.plot(kind='line')\n",
    "plt.xlabel('')\n",
    "plt.ylabel('customer #')\n",
    "\n",
    "# plot total sales/month \n",
    "plt.axes([0.08,0,0.4,0.32])\n",
    "a=purchasedata.resample('M',on='event_time')['price'].sum().to_frame()\n",
    "a['month']=['Oct','Nov', 'Dec', 'Jan', 'Feb', 'Mar', 'Apr']\n",
    "a['price']=a['price']/1000000\n",
    "sns.barplot(x='month',y='price',data=a,color=\"lightsteelblue\")\n",
    "plt.xlabel('month')\n",
    "plt.ylabel('total sales (million $)')\n",
    "\n",
    "# plot average spend/customer\n",
    "plt.axes([0.55,0,0.4,0.32])\n",
    "purchasedata_p_day = purchasedata.resample('D',on='event_time')['price'].sum()\n",
    "purchasedata_spent = purchasedata_p_day/purchasedata_n_user\n",
    "purchasedata_spent.plot(kind='area',color=\"lightsteelblue\")\n",
    "plt.xlabel('date')\n",
    "plt.ylabel('average spend/customer ($)');"
   ]
  },
  {
   "cell_type": "markdown",
   "metadata": {
    "papermill": {
     "duration": 0.022633,
     "end_time": "2020-12-06T04:23:56.101974",
     "exception": false,
     "start_time": "2020-12-06T04:23:56.079341",
     "status": "completed"
    },
    "tags": []
   },
   "source": [
    "#### Feature generation\n",
    "\n",
    "&nbsp;&nbsp;&nbsp;&nbsp;&nbsp;&nbsp;&nbsp;&nbsp;Next, I grouped the data by user_id, and calculated each customer’s Recency (how many days had it been since the customer’s last purchase), Frequency (how often had the customer made a purchase), and Monetary Value(how much did the customer spend)."
   ]
  },
  {
   "cell_type": "code",
   "execution_count": 9,
   "metadata": {
    "_kg_hide-input": true,
    "execution": {
     "iopub.execute_input": "2020-12-06T04:23:56.178820Z",
     "iopub.status.busy": "2020-12-06T04:23:56.157243Z",
     "iopub.status.idle": "2020-12-06T04:23:56.778036Z",
     "shell.execute_reply": "2020-12-06T04:23:56.777277Z"
    },
    "papermill": {
     "duration": 0.653361,
     "end_time": "2020-12-06T04:23:56.778159",
     "exception": false,
     "start_time": "2020-12-06T04:23:56.124798",
     "status": "completed"
    },
    "tags": []
   },
   "outputs": [
    {
     "name": "stdout",
     "output_type": "stream",
     "text": [
      "Reference Date: 2020-05-01 23:59:36\n",
      "RECENCY ------\n",
      "     user_id  Recency\n",
      "0   96369466     12.0\n",
      "1  101875240    106.0\n",
      "2  107620212     92.0\n",
      "3  128029678     23.0\n",
      "4  128968633     55.0\n",
      "FREQUENCY ------\n",
      "     user_id  Frequency\n",
      "0   96369466          1\n",
      "1  101875240          1\n",
      "2  107620212          1\n",
      "3  128029678          3\n",
      "4  128968633          4\n",
      "MONETARY VALUE ------\n",
      "     user_id  Monetary\n",
      "0   96369466     50.71\n",
      "1  101875240    184.52\n",
      "2  107620212    244.28\n",
      "3  128029678    569.89\n",
      "4  128968633    714.01\n"
     ]
    }
   ],
   "source": [
    "# group the data by \"user_id\", and calcualte each customer's recency, frequency, and monetary value\n",
    "\n",
    "# step 1: calculate \"Recency\", set Feb 2020 as the reference month, and use \"month\" as the unit\n",
    "# d={\"Oct\":4,\"Nov\":3,\"Dec\":2,\"Jan\":1,\"Feb\":0}\n",
    "# df_sales.loc[:,'Recency']=df_sales['month'].map(d)\n",
    "# df_R=df_sales.groupby('user_id')['Recency'].min().reset_index().rename(columns={\"0\":\"Recency\"})\n",
    "\n",
    "# step 1: calculate \"Recency\", set max event_time + 1 day as reference day and calculate recency\n",
    "# refrence_date = datetime.datetime.strptime(purchasedata['event_time'].max(), '%Y-%m-%d %H:%M:%S') + datetime.timedelta(days = 1)\n",
    "refrence_date = purchasedata['event_time'].max() + datetime.timedelta(days = 1)\n",
    "print('Reference Date:', refrence_date)\n",
    "purchasedata['days_since_last_purchase'] = (refrence_date - purchasedata['event_time']).astype('timedelta64[D]')\n",
    "df_recency = purchasedata[['user_id', 'days_since_last_purchase']].groupby(\"user_id\").min().reset_index()\n",
    "df_recency.rename(columns={'days_since_last_purchase': 'Recency'}, inplace=True)\n",
    "#customer_history_df.describe().transpose()\n",
    "print(\"RECENCY ------\")\n",
    "print(df_recency.head())\n",
    "\n",
    "# step 2: calculate \"Frequency\"\n",
    "df_frequency = purchasedata.groupby('user_id')['event_type'].count().reset_index().rename(columns={\"event_type\": \"Frequency\"})\n",
    "print(\"FREQUENCY ------\")\n",
    "print(df_frequency.head())\n",
    "\n",
    "# step 3: calculate \"Monetary\"\n",
    "df_monetary = purchasedata.groupby('user_id')['price'].sum().reset_index().rename(columns={\"price\": \"Monetary\"})\n",
    "print(\"MONETARY VALUE ------\")\n",
    "print(df_monetary.head())"
   ]
  },
  {
   "cell_type": "code",
   "execution_count": 10,
   "metadata": {},
   "outputs": [
    {
     "data": {
      "text/html": [
       "<div>\n",
       "<style scoped>\n",
       "    .dataframe tbody tr th:only-of-type {\n",
       "        vertical-align: middle;\n",
       "    }\n",
       "\n",
       "    .dataframe tbody tr th {\n",
       "        vertical-align: top;\n",
       "    }\n",
       "\n",
       "    .dataframe thead th {\n",
       "        text-align: right;\n",
       "    }\n",
       "</style>\n",
       "<table border=\"1\" class=\"dataframe\">\n",
       "  <thead>\n",
       "    <tr style=\"text-align: right;\">\n",
       "      <th></th>\n",
       "      <th>user_id</th>\n",
       "      <th>Recency</th>\n",
       "      <th>Frequency</th>\n",
       "      <th>Monetary</th>\n",
       "    </tr>\n",
       "  </thead>\n",
       "  <tbody>\n",
       "    <tr>\n",
       "      <th>0</th>\n",
       "      <td>96369466</td>\n",
       "      <td>12.0</td>\n",
       "      <td>1</td>\n",
       "      <td>50.71</td>\n",
       "    </tr>\n",
       "    <tr>\n",
       "      <th>1</th>\n",
       "      <td>101875240</td>\n",
       "      <td>106.0</td>\n",
       "      <td>1</td>\n",
       "      <td>184.52</td>\n",
       "    </tr>\n",
       "    <tr>\n",
       "      <th>2</th>\n",
       "      <td>107620212</td>\n",
       "      <td>92.0</td>\n",
       "      <td>1</td>\n",
       "      <td>244.28</td>\n",
       "    </tr>\n",
       "  </tbody>\n",
       "</table>\n",
       "</div>"
      ],
      "text/plain": [
       "     user_id  Recency  Frequency  Monetary\n",
       "0   96369466     12.0          1     50.71\n",
       "1  101875240    106.0          1    184.52\n",
       "2  107620212     92.0          1    244.28"
      ]
     },
     "execution_count": 10,
     "metadata": {},
     "output_type": "execute_result"
    }
   ],
   "source": [
    "# step 4: merge \"Recency\", \"Frequency\", and \"Monetary\"\n",
    "df_RF = pd.merge(df_recency, df_frequency, on='user_id')\n",
    "df_RFM = pd.merge(df_RF, df_monetary, on='user_id')\n",
    "\n",
    "# # step 5: remove outliers before K-Means clustering\n",
    "# conditions = np.abs(stats.zscore(df_RFM.loc[:,['Recency','Frequency','Monetary']]) < 3).all(axis=1)\n",
    "# df_RFM2=df_RFM.loc[conditions,:]\n",
    "\n",
    "df_RFM.head(3)"
   ]
  },
  {
   "cell_type": "code",
   "execution_count": 11,
   "metadata": {},
   "outputs": [
    {
     "data": {
      "text/html": [
       "<div>\n",
       "<style scoped>\n",
       "    .dataframe tbody tr th:only-of-type {\n",
       "        vertical-align: middle;\n",
       "    }\n",
       "\n",
       "    .dataframe tbody tr th {\n",
       "        vertical-align: top;\n",
       "    }\n",
       "\n",
       "    .dataframe thead th {\n",
       "        text-align: right;\n",
       "    }\n",
       "</style>\n",
       "<table border=\"1\" class=\"dataframe\">\n",
       "  <thead>\n",
       "    <tr style=\"text-align: right;\">\n",
       "      <th></th>\n",
       "      <th>user_id</th>\n",
       "      <th>Recency</th>\n",
       "      <th>Frequency</th>\n",
       "      <th>Monetary</th>\n",
       "    </tr>\n",
       "  </thead>\n",
       "  <tbody>\n",
       "    <tr>\n",
       "      <th>count</th>\n",
       "      <td>2.064899e+06</td>\n",
       "      <td>2.064899e+06</td>\n",
       "      <td>2.064899e+06</td>\n",
       "      <td>2.064899e+06</td>\n",
       "    </tr>\n",
       "    <tr>\n",
       "      <th>mean</th>\n",
       "      <td>5.652546e+08</td>\n",
       "      <td>8.959922e+01</td>\n",
       "      <td>3.243387e+00</td>\n",
       "      <td>9.737000e+02</td>\n",
       "    </tr>\n",
       "    <tr>\n",
       "      <th>std</th>\n",
       "      <td>4.047368e+07</td>\n",
       "      <td>6.203335e+01</td>\n",
       "      <td>7.909233e+00</td>\n",
       "      <td>3.583965e+03</td>\n",
       "    </tr>\n",
       "    <tr>\n",
       "      <th>min</th>\n",
       "      <td>9.636947e+07</td>\n",
       "      <td>1.000000e+00</td>\n",
       "      <td>1.000000e+00</td>\n",
       "      <td>3.100000e-01</td>\n",
       "    </tr>\n",
       "    <tr>\n",
       "      <th>25%</th>\n",
       "      <td>5.265437e+08</td>\n",
       "      <td>3.400000e+01</td>\n",
       "      <td>1.000000e+00</td>\n",
       "      <td>1.392600e+02</td>\n",
       "    </tr>\n",
       "    <tr>\n",
       "      <th>50%</th>\n",
       "      <td>5.609019e+08</td>\n",
       "      <td>8.100000e+01</td>\n",
       "      <td>2.000000e+00</td>\n",
       "      <td>3.170100e+02</td>\n",
       "    </tr>\n",
       "    <tr>\n",
       "      <th>75%</th>\n",
       "      <td>5.971770e+08</td>\n",
       "      <td>1.390000e+02</td>\n",
       "      <td>3.000000e+00</td>\n",
       "      <td>8.443000e+02</td>\n",
       "    </tr>\n",
       "    <tr>\n",
       "      <th>max</th>\n",
       "      <td>6.497740e+08</td>\n",
       "      <td>2.130000e+02</td>\n",
       "      <td>2.119000e+03</td>\n",
       "      <td>7.883386e+05</td>\n",
       "    </tr>\n",
       "  </tbody>\n",
       "</table>\n",
       "</div>"
      ],
      "text/plain": [
       "            user_id       Recency     Frequency      Monetary\n",
       "count  2.064899e+06  2.064899e+06  2.064899e+06  2.064899e+06\n",
       "mean   5.652546e+08  8.959922e+01  3.243387e+00  9.737000e+02\n",
       "std    4.047368e+07  6.203335e+01  7.909233e+00  3.583965e+03\n",
       "min    9.636947e+07  1.000000e+00  1.000000e+00  3.100000e-01\n",
       "25%    5.265437e+08  3.400000e+01  1.000000e+00  1.392600e+02\n",
       "50%    5.609019e+08  8.100000e+01  2.000000e+00  3.170100e+02\n",
       "75%    5.971770e+08  1.390000e+02  3.000000e+00  8.443000e+02\n",
       "max    6.497740e+08  2.130000e+02  2.119000e+03  7.883386e+05"
      ]
     },
     "execution_count": 11,
     "metadata": {},
     "output_type": "execute_result"
    }
   ],
   "source": [
    "df_RFM.describe()"
   ]
  },
  {
   "cell_type": "code",
   "execution_count": 12,
   "metadata": {
    "_kg_hide-input": true,
    "execution": {
     "iopub.execute_input": "2020-12-06T04:23:56.890457Z",
     "iopub.status.busy": "2020-12-06T04:23:56.889318Z",
     "iopub.status.idle": "2020-12-06T04:23:57.809746Z",
     "shell.execute_reply": "2020-12-06T04:23:57.808906Z"
    },
    "papermill": {
     "duration": 0.961064,
     "end_time": "2020-12-06T04:23:57.809925",
     "exception": false,
     "start_time": "2020-12-06T04:23:56.848861",
     "status": "completed"
    },
    "scrolled": true,
    "tags": []
   },
   "outputs": [
    {
     "data": {
      "image/png": "[encoded data removed]",
      "text/plain": [
       "<Figure size 1080x288 with 3 Axes>"
      ]
     },
     "metadata": {
      "needs_background": "light"
     },
     "output_type": "display_data"
    }
   ],
   "source": [
    "# visualize the distribution of \"Recency\", \"Frequency\", and \"Monetary\"\n",
    "fig,(ax1,ax2,ax3)=plt.subplots(1,3,figsize=(15,4))\n",
    "\n",
    "# plot \"Recency\"\n",
    "ax1.hist(df_RFM['Recency'],bins=25,color='lightsteelblue')\n",
    "# ax1.set_xticks(np.arange(0,5,1))\n",
    "ax1.set_xlabel('recency (month)')\n",
    "ax1.set_ylabel('customer #')\n",
    "\n",
    "# plot \"Frequency\"\n",
    "ax2.hist(df_RFM['Frequency'],bins=25,color='lightsteelblue')\n",
    "ax2.set_xlabel('frequency')\n",
    "ax2.set_ylabel('customer#')\n",
    "\n",
    "# plot \"Monetary\"\n",
    "ax3.hist(df_RFM['Monetary'],bins=25,color='lightsteelblue')\n",
    "ax3.set_xlabel('monetary value ($)')\n",
    "ax3.set_ylabel('customer#')\n",
    "\n",
    "plt.tight_layout()"
   ]
  },
  {
   "cell_type": "markdown",
   "metadata": {},
   "source": [
    "#### Visualization of distributions"
   ]
  },
  {
   "cell_type": "code",
   "execution_count": 13,
   "metadata": {},
   "outputs": [],
   "source": [
    "def QQ_plot(data, measure):\n",
    "    fig = plt.figure(figsize=(20,7))\n",
    "\n",
    "    #Get the fitted parameters used by the function\n",
    "    (mu, sigma) = norm.fit(data)\n",
    "\n",
    "    #Kernel Density plot\n",
    "    fig1 = fig.add_subplot(121)\n",
    "    sns.distplot(data, fit=norm)\n",
    "    fig1.set_title(measure + ' Distribution ( mu = {:.2f} and sigma = {:.2f} )'.format(mu, sigma), loc='center', fontsize=20)\n",
    "    fig1.set_xlabel(measure)\n",
    "    fig1.set_ylabel('Frequency')\n",
    "\n",
    "    #QQ plot\n",
    "    fig2 = fig.add_subplot(122)\n",
    "    res = probplot(data, plot=fig2)\n",
    "    fig2.set_title(measure + ' Probability Plot (skewness: {:.6f} and kurtosis: {:.6f} )'.format(data.skew(), data.kurt()), loc='center', fontsize=20)\n",
    "\n",
    "    plt.tight_layout()\n",
    "    plt.show()"
   ]
  },
  {
   "cell_type": "markdown",
   "metadata": {},
   "source": [
    "RECENCY:"
   ]
  },
  {
   "cell_type": "code",
   "execution_count": 14,
   "metadata": {},
   "outputs": [
    {
     "data": {
      "text/html": [
       "<div>\n",
       "<style scoped>\n",
       "    .dataframe tbody tr th:only-of-type {\n",
       "        vertical-align: middle;\n",
       "    }\n",
       "\n",
       "    .dataframe tbody tr th {\n",
       "        vertical-align: top;\n",
       "    }\n",
       "\n",
       "    .dataframe thead th {\n",
       "        text-align: right;\n",
       "    }\n",
       "</style>\n",
       "<table border=\"1\" class=\"dataframe\">\n",
       "  <thead>\n",
       "    <tr style=\"text-align: right;\">\n",
       "      <th></th>\n",
       "      <th>user_id</th>\n",
       "      <th>Recency</th>\n",
       "    </tr>\n",
       "  </thead>\n",
       "  <tbody>\n",
       "    <tr>\n",
       "      <th>count</th>\n",
       "      <td>2.064899e+06</td>\n",
       "      <td>2.064899e+06</td>\n",
       "    </tr>\n",
       "    <tr>\n",
       "      <th>mean</th>\n",
       "      <td>5.652546e+08</td>\n",
       "      <td>8.959922e+01</td>\n",
       "    </tr>\n",
       "    <tr>\n",
       "      <th>std</th>\n",
       "      <td>4.047368e+07</td>\n",
       "      <td>6.203335e+01</td>\n",
       "    </tr>\n",
       "    <tr>\n",
       "      <th>min</th>\n",
       "      <td>9.636947e+07</td>\n",
       "      <td>1.000000e+00</td>\n",
       "    </tr>\n",
       "    <tr>\n",
       "      <th>25%</th>\n",
       "      <td>5.265437e+08</td>\n",
       "      <td>3.400000e+01</td>\n",
       "    </tr>\n",
       "    <tr>\n",
       "      <th>50%</th>\n",
       "      <td>5.609019e+08</td>\n",
       "      <td>8.100000e+01</td>\n",
       "    </tr>\n",
       "    <tr>\n",
       "      <th>75%</th>\n",
       "      <td>5.971770e+08</td>\n",
       "      <td>1.390000e+02</td>\n",
       "    </tr>\n",
       "    <tr>\n",
       "      <th>max</th>\n",
       "      <td>6.497740e+08</td>\n",
       "      <td>2.130000e+02</td>\n",
       "    </tr>\n",
       "  </tbody>\n",
       "</table>\n",
       "</div>"
      ],
      "text/plain": [
       "            user_id       Recency\n",
       "count  2.064899e+06  2.064899e+06\n",
       "mean   5.652546e+08  8.959922e+01\n",
       "std    4.047368e+07  6.203335e+01\n",
       "min    9.636947e+07  1.000000e+00\n",
       "25%    5.265437e+08  3.400000e+01\n",
       "50%    5.609019e+08  8.100000e+01\n",
       "75%    5.971770e+08  1.390000e+02\n",
       "max    6.497740e+08  2.130000e+02"
      ]
     },
     "execution_count": 14,
     "metadata": {},
     "output_type": "execute_result"
    }
   ],
   "source": [
    "df_recency.describe()"
   ]
  },
  {
   "cell_type": "code",
   "execution_count": 15,
   "metadata": {},
   "outputs": [
    {
     "data": {
      "image/png": "[encoded data removed]",
      "text/plain": [
       "<Figure size 1440x504 with 2 Axes>"
      ]
     },
     "metadata": {
      "needs_background": "light"
     },
     "output_type": "display_data"
    }
   ],
   "source": [
    "QQ_plot(df_recency['Recency'], 'Recency')"
   ]
  },
  {
   "cell_type": "markdown",
   "metadata": {},
   "source": [
    "FREQUENCY:"
   ]
  },
  {
   "cell_type": "code",
   "execution_count": 16,
   "metadata": {},
   "outputs": [
    {
     "data": {
      "text/html": [
       "<div>\n",
       "<style scoped>\n",
       "    .dataframe tbody tr th:only-of-type {\n",
       "        vertical-align: middle;\n",
       "    }\n",
       "\n",
       "    .dataframe tbody tr th {\n",
       "        vertical-align: top;\n",
       "    }\n",
       "\n",
       "    .dataframe thead th {\n",
       "        text-align: right;\n",
       "    }\n",
       "</style>\n",
       "<table border=\"1\" class=\"dataframe\">\n",
       "  <thead>\n",
       "    <tr style=\"text-align: right;\">\n",
       "      <th></th>\n",
       "      <th>user_id</th>\n",
       "      <th>Frequency</th>\n",
       "    </tr>\n",
       "  </thead>\n",
       "  <tbody>\n",
       "    <tr>\n",
       "      <th>count</th>\n",
       "      <td>2.064899e+06</td>\n",
       "      <td>2.064899e+06</td>\n",
       "    </tr>\n",
       "    <tr>\n",
       "      <th>mean</th>\n",
       "      <td>5.652546e+08</td>\n",
       "      <td>3.243387e+00</td>\n",
       "    </tr>\n",
       "    <tr>\n",
       "      <th>std</th>\n",
       "      <td>4.047368e+07</td>\n",
       "      <td>7.909233e+00</td>\n",
       "    </tr>\n",
       "    <tr>\n",
       "      <th>min</th>\n",
       "      <td>9.636947e+07</td>\n",
       "      <td>1.000000e+00</td>\n",
       "    </tr>\n",
       "    <tr>\n",
       "      <th>25%</th>\n",
       "      <td>5.265437e+08</td>\n",
       "      <td>1.000000e+00</td>\n",
       "    </tr>\n",
       "    <tr>\n",
       "      <th>50%</th>\n",
       "      <td>5.609019e+08</td>\n",
       "      <td>2.000000e+00</td>\n",
       "    </tr>\n",
       "    <tr>\n",
       "      <th>75%</th>\n",
       "      <td>5.971770e+08</td>\n",
       "      <td>3.000000e+00</td>\n",
       "    </tr>\n",
       "    <tr>\n",
       "      <th>max</th>\n",
       "      <td>6.497740e+08</td>\n",
       "      <td>2.119000e+03</td>\n",
       "    </tr>\n",
       "  </tbody>\n",
       "</table>\n",
       "</div>"
      ],
      "text/plain": [
       "            user_id     Frequency\n",
       "count  2.064899e+06  2.064899e+06\n",
       "mean   5.652546e+08  3.243387e+00\n",
       "std    4.047368e+07  7.909233e+00\n",
       "min    9.636947e+07  1.000000e+00\n",
       "25%    5.265437e+08  1.000000e+00\n",
       "50%    5.609019e+08  2.000000e+00\n",
       "75%    5.971770e+08  3.000000e+00\n",
       "max    6.497740e+08  2.119000e+03"
      ]
     },
     "execution_count": 16,
     "metadata": {},
     "output_type": "execute_result"
    }
   ],
   "source": [
    "df_frequency.describe()"
   ]
  },
  {
   "cell_type": "code",
   "execution_count": 17,
   "metadata": {},
   "outputs": [
    {
     "data": {
      "image/png": "[encoded data removed]",
      "text/plain": [
       "<Figure size 1440x504 with 2 Axes>"
      ]
     },
     "metadata": {
      "needs_background": "light"
     },
     "output_type": "display_data"
    }
   ],
   "source": [
    "QQ_plot(df_frequency['Frequency'], 'Frequency')"
   ]
  },
  {
   "cell_type": "markdown",
   "metadata": {},
   "source": [
    "MONETARY VALUE:"
   ]
  },
  {
   "cell_type": "code",
   "execution_count": 18,
   "metadata": {},
   "outputs": [
    {
     "data": {
      "text/html": [
       "<div>\n",
       "<style scoped>\n",
       "    .dataframe tbody tr th:only-of-type {\n",
       "        vertical-align: middle;\n",
       "    }\n",
       "\n",
       "    .dataframe tbody tr th {\n",
       "        vertical-align: top;\n",
       "    }\n",
       "\n",
       "    .dataframe thead th {\n",
       "        text-align: right;\n",
       "    }\n",
       "</style>\n",
       "<table border=\"1\" class=\"dataframe\">\n",
       "  <thead>\n",
       "    <tr style=\"text-align: right;\">\n",
       "      <th></th>\n",
       "      <th>user_id</th>\n",
       "      <th>Monetary</th>\n",
       "    </tr>\n",
       "  </thead>\n",
       "  <tbody>\n",
       "    <tr>\n",
       "      <th>count</th>\n",
       "      <td>2.064899e+06</td>\n",
       "      <td>2.064899e+06</td>\n",
       "    </tr>\n",
       "    <tr>\n",
       "      <th>mean</th>\n",
       "      <td>5.652546e+08</td>\n",
       "      <td>9.737000e+02</td>\n",
       "    </tr>\n",
       "    <tr>\n",
       "      <th>std</th>\n",
       "      <td>4.047368e+07</td>\n",
       "      <td>3.583965e+03</td>\n",
       "    </tr>\n",
       "    <tr>\n",
       "      <th>min</th>\n",
       "      <td>9.636947e+07</td>\n",
       "      <td>3.100000e-01</td>\n",
       "    </tr>\n",
       "    <tr>\n",
       "      <th>25%</th>\n",
       "      <td>5.265437e+08</td>\n",
       "      <td>1.392600e+02</td>\n",
       "    </tr>\n",
       "    <tr>\n",
       "      <th>50%</th>\n",
       "      <td>5.609019e+08</td>\n",
       "      <td>3.170100e+02</td>\n",
       "    </tr>\n",
       "    <tr>\n",
       "      <th>75%</th>\n",
       "      <td>5.971770e+08</td>\n",
       "      <td>8.443000e+02</td>\n",
       "    </tr>\n",
       "    <tr>\n",
       "      <th>max</th>\n",
       "      <td>6.497740e+08</td>\n",
       "      <td>7.883386e+05</td>\n",
       "    </tr>\n",
       "  </tbody>\n",
       "</table>\n",
       "</div>"
      ],
      "text/plain": [
       "            user_id      Monetary\n",
       "count  2.064899e+06  2.064899e+06\n",
       "mean   5.652546e+08  9.737000e+02\n",
       "std    4.047368e+07  3.583965e+03\n",
       "min    9.636947e+07  3.100000e-01\n",
       "25%    5.265437e+08  1.392600e+02\n",
       "50%    5.609019e+08  3.170100e+02\n",
       "75%    5.971770e+08  8.443000e+02\n",
       "max    6.497740e+08  7.883386e+05"
      ]
     },
     "execution_count": 18,
     "metadata": {},
     "output_type": "execute_result"
    }
   ],
   "source": [
    "df_monetary.describe()"
   ]
  },
  {
   "cell_type": "code",
   "execution_count": 19,
   "metadata": {},
   "outputs": [
    {
     "data": {
      "image/png": "[encoded data removed]",
      "text/plain": [
       "<Figure size 1440x504 with 2 Axes>"
      ]
     },
     "metadata": {
      "needs_background": "light"
     },
     "output_type": "display_data"
    }
   ],
   "source": [
    "QQ_plot(df_monetary['Monetary'], 'Monetary Value')"
   ]
  },
  {
   "cell_type": "markdown",
   "metadata": {},
   "source": [
    "RFM:"
   ]
  },
  {
   "cell_type": "code",
   "execution_count": 20,
   "metadata": {},
   "outputs": [
    {
     "data": {
      "text/html": [
       "<div>\n",
       "<style scoped>\n",
       "    .dataframe tbody tr th:only-of-type {\n",
       "        vertical-align: middle;\n",
       "    }\n",
       "\n",
       "    .dataframe tbody tr th {\n",
       "        vertical-align: top;\n",
       "    }\n",
       "\n",
       "    .dataframe thead th {\n",
       "        text-align: right;\n",
       "    }\n",
       "</style>\n",
       "<table border=\"1\" class=\"dataframe\">\n",
       "  <thead>\n",
       "    <tr style=\"text-align: right;\">\n",
       "      <th></th>\n",
       "      <th>user_id</th>\n",
       "      <th>Recency</th>\n",
       "      <th>Frequency</th>\n",
       "      <th>Monetary</th>\n",
       "    </tr>\n",
       "  </thead>\n",
       "  <tbody>\n",
       "    <tr>\n",
       "      <th>count</th>\n",
       "      <td>2.064899e+06</td>\n",
       "      <td>2.064899e+06</td>\n",
       "      <td>2.064899e+06</td>\n",
       "      <td>2.064899e+06</td>\n",
       "    </tr>\n",
       "    <tr>\n",
       "      <th>mean</th>\n",
       "      <td>5.652546e+08</td>\n",
       "      <td>8.959922e+01</td>\n",
       "      <td>3.243387e+00</td>\n",
       "      <td>9.737000e+02</td>\n",
       "    </tr>\n",
       "    <tr>\n",
       "      <th>std</th>\n",
       "      <td>4.047368e+07</td>\n",
       "      <td>6.203335e+01</td>\n",
       "      <td>7.909233e+00</td>\n",
       "      <td>3.583965e+03</td>\n",
       "    </tr>\n",
       "    <tr>\n",
       "      <th>min</th>\n",
       "      <td>9.636947e+07</td>\n",
       "      <td>1.000000e+00</td>\n",
       "      <td>1.000000e+00</td>\n",
       "      <td>3.100000e-01</td>\n",
       "    </tr>\n",
       "    <tr>\n",
       "      <th>25%</th>\n",
       "      <td>5.265437e+08</td>\n",
       "      <td>3.400000e+01</td>\n",
       "      <td>1.000000e+00</td>\n",
       "      <td>1.392600e+02</td>\n",
       "    </tr>\n",
       "    <tr>\n",
       "      <th>50%</th>\n",
       "      <td>5.609019e+08</td>\n",
       "      <td>8.100000e+01</td>\n",
       "      <td>2.000000e+00</td>\n",
       "      <td>3.170100e+02</td>\n",
       "    </tr>\n",
       "    <tr>\n",
       "      <th>75%</th>\n",
       "      <td>5.971770e+08</td>\n",
       "      <td>1.390000e+02</td>\n",
       "      <td>3.000000e+00</td>\n",
       "      <td>8.443000e+02</td>\n",
       "    </tr>\n",
       "    <tr>\n",
       "      <th>max</th>\n",
       "      <td>6.497740e+08</td>\n",
       "      <td>2.130000e+02</td>\n",
       "      <td>2.119000e+03</td>\n",
       "      <td>7.883386e+05</td>\n",
       "    </tr>\n",
       "  </tbody>\n",
       "</table>\n",
       "</div>"
      ],
      "text/plain": [
       "            user_id       Recency     Frequency      Monetary\n",
       "count  2.064899e+06  2.064899e+06  2.064899e+06  2.064899e+06\n",
       "mean   5.652546e+08  8.959922e+01  3.243387e+00  9.737000e+02\n",
       "std    4.047368e+07  6.203335e+01  7.909233e+00  3.583965e+03\n",
       "min    9.636947e+07  1.000000e+00  1.000000e+00  3.100000e-01\n",
       "25%    5.265437e+08  3.400000e+01  1.000000e+00  1.392600e+02\n",
       "50%    5.609019e+08  8.100000e+01  2.000000e+00  3.170100e+02\n",
       "75%    5.971770e+08  1.390000e+02  3.000000e+00  8.443000e+02\n",
       "max    6.497740e+08  2.130000e+02  2.119000e+03  7.883386e+05"
      ]
     },
     "execution_count": 20,
     "metadata": {},
     "output_type": "execute_result"
    }
   ],
   "source": [
    "df_RFM.describe()"
   ]
  },
  {
   "cell_type": "code",
   "execution_count": 21,
   "metadata": {},
   "outputs": [
    {
     "data": {
      "image/png": "[encoded data removed]",
      "text/plain": [
       "<Figure size 720x576 with 4 Axes>"
      ]
     },
     "metadata": {
      "needs_background": "light"
     },
     "output_type": "display_data"
    }
   ],
   "source": [
    "# Visualize distribution of each feature\n",
    "tmp = df_RFM.drop('user_id', axis=1)\n",
    "tmp.hist(figsize=(10,8))\n",
    "plt.tight_layout();"
   ]
  },
  {
   "cell_type": "markdown",
   "metadata": {},
   "source": [
    "We can see that many customer made a single order and that a littel fraction of them spent many money. Recency has a peak that correspond to the 17th of november that is the day with the highest amount of orders."
   ]
  },
  {
   "cell_type": "markdown",
   "metadata": {},
   "source": [
    "## Features scaling "
   ]
  },
  {
   "cell_type": "code",
   "execution_count": 23,
   "metadata": {},
   "outputs": [
    {
     "name": "stdout",
     "output_type": "stream",
     "text": [
      "<class 'pandas.core.frame.DataFrame'>\n",
      "Int64Index: 2064899 entries, 0 to 2064898\n",
      "Data columns (total 3 columns):\n",
      " #   Column     Dtype  \n",
      "---  ------     -----  \n",
      " 0   Recency    float64\n",
      " 1   Frequency  int64  \n",
      " 2   Monetary   float64\n",
      "dtypes: float64(2), int64(1)\n",
      "memory usage: 63.0 MB\n"
     ]
    }
   ],
   "source": [
    "feature_vector = ['Recency', 'Frequency', 'Monetary']\n",
    "tmp = df_RFM.drop('user_id', axis=1)\n",
    "X_subset = tmp[feature_vector] #.as_matrix()\n",
    "X_subset.info()"
   ]
  },
  {
   "cell_type": "code",
   "execution_count": 24,
   "metadata": {},
   "outputs": [
    {
     "data": {
      "text/html": [
       "<div>\n",
       "<style scoped>\n",
       "    .dataframe tbody tr th:only-of-type {\n",
       "        vertical-align: middle;\n",
       "    }\n",
       "\n",
       "    .dataframe tbody tr th {\n",
       "        vertical-align: top;\n",
       "    }\n",
       "\n",
       "    .dataframe thead th {\n",
       "        text-align: right;\n",
       "    }\n",
       "</style>\n",
       "<table border=\"1\" class=\"dataframe\">\n",
       "  <thead>\n",
       "    <tr style=\"text-align: right;\">\n",
       "      <th></th>\n",
       "      <th>Recency</th>\n",
       "      <th>Frequency</th>\n",
       "      <th>Monetary</th>\n",
       "    </tr>\n",
       "  </thead>\n",
       "  <tbody>\n",
       "    <tr>\n",
       "      <th>0</th>\n",
       "      <td>12.0</td>\n",
       "      <td>1</td>\n",
       "      <td>50.71</td>\n",
       "    </tr>\n",
       "    <tr>\n",
       "      <th>1</th>\n",
       "      <td>106.0</td>\n",
       "      <td>1</td>\n",
       "      <td>184.52</td>\n",
       "    </tr>\n",
       "    <tr>\n",
       "      <th>2</th>\n",
       "      <td>92.0</td>\n",
       "      <td>1</td>\n",
       "      <td>244.28</td>\n",
       "    </tr>\n",
       "    <tr>\n",
       "      <th>3</th>\n",
       "      <td>23.0</td>\n",
       "      <td>3</td>\n",
       "      <td>569.89</td>\n",
       "    </tr>\n",
       "    <tr>\n",
       "      <th>4</th>\n",
       "      <td>55.0</td>\n",
       "      <td>4</td>\n",
       "      <td>714.01</td>\n",
       "    </tr>\n",
       "  </tbody>\n",
       "</table>\n",
       "</div>"
      ],
      "text/plain": [
       "   Recency  Frequency  Monetary\n",
       "0     12.0          1     50.71\n",
       "1    106.0          1    184.52\n",
       "2     92.0          1    244.28\n",
       "3     23.0          3    569.89\n",
       "4     55.0          4    714.01"
      ]
     },
     "execution_count": 24,
     "metadata": {},
     "output_type": "execute_result"
    }
   ],
   "source": [
    "X_subset.head()"
   ]
  },
  {
   "cell_type": "code",
   "execution_count": 25,
   "metadata": {},
   "outputs": [],
   "source": [
    "X_scaled = preprocessing.StandardScaler().fit_transform(X_subset)"
   ]
  },
  {
   "cell_type": "code",
   "execution_count": 26,
   "metadata": {},
   "outputs": [
    {
     "data": {
      "text/html": [
       "<div>\n",
       "<style scoped>\n",
       "    .dataframe tbody tr th:only-of-type {\n",
       "        vertical-align: middle;\n",
       "    }\n",
       "\n",
       "    .dataframe tbody tr th {\n",
       "        vertical-align: top;\n",
       "    }\n",
       "\n",
       "    .dataframe thead th {\n",
       "        text-align: right;\n",
       "    }\n",
       "</style>\n",
       "<table border=\"1\" class=\"dataframe\">\n",
       "  <thead>\n",
       "    <tr style=\"text-align: right;\">\n",
       "      <th></th>\n",
       "      <th>count</th>\n",
       "      <th>mean</th>\n",
       "      <th>std</th>\n",
       "      <th>min</th>\n",
       "      <th>25%</th>\n",
       "      <th>50%</th>\n",
       "      <th>75%</th>\n",
       "      <th>max</th>\n",
       "    </tr>\n",
       "  </thead>\n",
       "  <tbody>\n",
       "    <tr>\n",
       "      <th>Recency</th>\n",
       "      <td>2064899.0</td>\n",
       "      <td>1.034666e-13</td>\n",
       "      <td>1.0</td>\n",
       "      <td>-1.428252</td>\n",
       "      <td>-0.896280</td>\n",
       "      <td>-0.138623</td>\n",
       "      <td>0.796359</td>\n",
       "      <td>1.989266</td>\n",
       "    </tr>\n",
       "    <tr>\n",
       "      <th>Frequency</th>\n",
       "      <td>2064899.0</td>\n",
       "      <td>1.159805e-14</td>\n",
       "      <td>1.0</td>\n",
       "      <td>-0.283642</td>\n",
       "      <td>-0.283642</td>\n",
       "      <td>-0.157207</td>\n",
       "      <td>-0.030772</td>\n",
       "      <td>267.504708</td>\n",
       "    </tr>\n",
       "    <tr>\n",
       "      <th>Monetary</th>\n",
       "      <td>2064899.0</td>\n",
       "      <td>4.756049e-15</td>\n",
       "      <td>1.0</td>\n",
       "      <td>-0.271596</td>\n",
       "      <td>-0.232826</td>\n",
       "      <td>-0.183230</td>\n",
       "      <td>-0.036105</td>\n",
       "      <td>219.691060</td>\n",
       "    </tr>\n",
       "  </tbody>\n",
       "</table>\n",
       "</div>"
      ],
      "text/plain": [
       "               count          mean  std       min       25%       50%  \\\n",
       "Recency    2064899.0  1.034666e-13  1.0 -1.428252 -0.896280 -0.138623   \n",
       "Frequency  2064899.0  1.159805e-14  1.0 -0.283642 -0.283642 -0.157207   \n",
       "Monetary   2064899.0  4.756049e-15  1.0 -0.271596 -0.232826 -0.183230   \n",
       "\n",
       "                75%         max  \n",
       "Recency    0.796359    1.989266  \n",
       "Frequency -0.030772  267.504708  \n",
       "Monetary  -0.036105  219.691060  "
      ]
     },
     "execution_count": 26,
     "metadata": {},
     "output_type": "execute_result"
    }
   ],
   "source": [
    "# show standardized data properties\n",
    "pd.DataFrame(X_scaled, columns=X_subset.columns).describe().T"
   ]
  },
  {
   "cell_type": "code",
   "execution_count": 27,
   "metadata": {},
   "outputs": [
    {
     "data": {
      "text/html": [
       "<div>\n",
       "<style scoped>\n",
       "    .dataframe tbody tr th:only-of-type {\n",
       "        vertical-align: middle;\n",
       "    }\n",
       "\n",
       "    .dataframe tbody tr th {\n",
       "        vertical-align: top;\n",
       "    }\n",
       "\n",
       "    .dataframe thead th {\n",
       "        text-align: right;\n",
       "    }\n",
       "</style>\n",
       "<table border=\"1\" class=\"dataframe\">\n",
       "  <thead>\n",
       "    <tr style=\"text-align: right;\">\n",
       "      <th></th>\n",
       "      <th>Recency</th>\n",
       "      <th>Frequency</th>\n",
       "      <th>Monetary</th>\n",
       "    </tr>\n",
       "  </thead>\n",
       "  <tbody>\n",
       "    <tr>\n",
       "      <th>0</th>\n",
       "      <td>-1.250928</td>\n",
       "      <td>-0.283642</td>\n",
       "      <td>-0.257533</td>\n",
       "    </tr>\n",
       "    <tr>\n",
       "      <th>1</th>\n",
       "      <td>0.264387</td>\n",
       "      <td>-0.283642</td>\n",
       "      <td>-0.220198</td>\n",
       "    </tr>\n",
       "    <tr>\n",
       "      <th>2</th>\n",
       "      <td>0.038702</td>\n",
       "      <td>-0.283642</td>\n",
       "      <td>-0.203523</td>\n",
       "    </tr>\n",
       "    <tr>\n",
       "      <th>3</th>\n",
       "      <td>-1.073604</td>\n",
       "      <td>-0.030772</td>\n",
       "      <td>-0.112671</td>\n",
       "    </tr>\n",
       "    <tr>\n",
       "      <th>4</th>\n",
       "      <td>-0.557752</td>\n",
       "      <td>0.095662</td>\n",
       "      <td>-0.072459</td>\n",
       "    </tr>\n",
       "  </tbody>\n",
       "</table>\n",
       "</div>"
      ],
      "text/plain": [
       "    Recency  Frequency  Monetary\n",
       "0 -1.250928  -0.283642 -0.257533\n",
       "1  0.264387  -0.283642 -0.220198\n",
       "2  0.038702  -0.283642 -0.203523\n",
       "3 -1.073604  -0.030772 -0.112671\n",
       "4 -0.557752   0.095662 -0.072459"
      ]
     },
     "execution_count": 27,
     "metadata": {},
     "output_type": "execute_result"
    }
   ],
   "source": [
    "customer_data_scaled = pd.DataFrame(X_scaled, columns=X_subset.columns)\n",
    "customer_data_scaled.head()"
   ]
  },
  {
   "cell_type": "code",
   "execution_count": 28,
   "metadata": {},
   "outputs": [],
   "source": [
    "# Plot the distribution of data\n",
    "\n",
    "# fig = plt.figure(figsize=(20,14))\n",
    "# f1 = fig.add_subplot(221); sns.regplot(x='recency', y='monetary_value', data=customer_history_df)\n",
    "# f1 = fig.add_subplot(222); sns.regplot(x='frequency', y='monetary_value', data=customer_history_df)\n",
    "\n",
    "# fig = plt.figure(figsize=(15, 10))\n",
    "# ax = fig.add_subplot(111, projection='3d')\n",
    "\n",
    "# xs = customer_data_scaled.recency\n",
    "# ys = customer_data_scaled.frequency\n",
    "# zs = customer_data_scaled.monetary_value\n",
    "# ax.scatter(xs, ys, zs, s=5)\n",
    "\n",
    "# ax.set_xlabel('Recency')\n",
    "# ax.set_ylabel('Frequency')\n",
    "# ax.set_zlabel('Monetary Value')\n",
    "\n",
    "# plt.show()"
   ]
  },
  {
   "cell_type": "code",
   "execution_count": 29,
   "metadata": {},
   "outputs": [
    {
     "name": "stdout",
     "output_type": "stream",
     "text": [
      "<class 'pandas.core.frame.DataFrame'>\n",
      "Int64Index: 2064899 entries, 0 to 2064898\n",
      "Data columns (total 3 columns):\n",
      " #   Column     Dtype  \n",
      "---  ------     -----  \n",
      " 0   Recency    float64\n",
      " 1   Frequency  float64\n",
      " 2   Monetary   float64\n",
      "dtypes: float64(3)\n",
      "memory usage: 63.0 MB\n"
     ]
    }
   ],
   "source": [
    "# log scaling data\n",
    "\n",
    "tmp_log = tmp.copy()\n",
    "\n",
    "tmp_log['Recency'] += 1.0\n",
    "tmp_log['Frequency'] += 1.0\n",
    "tmp_log['Monetary'] += 1.0\n",
    "\n",
    "tmp_log['Recency'] = np.log(tmp_log['Recency'])\n",
    "tmp_log['Frequency'] = np.log(tmp_log['Frequency'])\n",
    "tmp_log['Monetary'] = np.log(tmp_log['Monetary'])\n",
    "# feature_vector = ['totalprice_log', 'recency_log','frequency_log']\n",
    "feature_vector = ['Recency', 'Frequency', 'Monetary']\n",
    "X_subset_log = tmp_log[feature_vector] #.as_matrix()\n",
    "X_subset_log.info()"
   ]
  },
  {
   "cell_type": "code",
   "execution_count": 30,
   "metadata": {},
   "outputs": [],
   "source": [
    "X_scaled_log = preprocessing.StandardScaler().fit_transform(X_subset_log)"
   ]
  },
  {
   "cell_type": "code",
   "execution_count": 31,
   "metadata": {},
   "outputs": [
    {
     "data": {
      "text/html": [
       "<div>\n",
       "<style scoped>\n",
       "    .dataframe tbody tr th:only-of-type {\n",
       "        vertical-align: middle;\n",
       "    }\n",
       "\n",
       "    .dataframe tbody tr th {\n",
       "        vertical-align: top;\n",
       "    }\n",
       "\n",
       "    .dataframe thead th {\n",
       "        text-align: right;\n",
       "    }\n",
       "</style>\n",
       "<table border=\"1\" class=\"dataframe\">\n",
       "  <thead>\n",
       "    <tr style=\"text-align: right;\">\n",
       "      <th></th>\n",
       "      <th>count</th>\n",
       "      <th>mean</th>\n",
       "      <th>std</th>\n",
       "      <th>min</th>\n",
       "      <th>25%</th>\n",
       "      <th>50%</th>\n",
       "      <th>75%</th>\n",
       "      <th>max</th>\n",
       "    </tr>\n",
       "  </thead>\n",
       "  <tbody>\n",
       "    <tr>\n",
       "      <th>Recency</th>\n",
       "      <td>2064899.0</td>\n",
       "      <td>-5.482345e-14</td>\n",
       "      <td>1.0</td>\n",
       "      <td>-3.068747</td>\n",
       "      <td>-0.487699</td>\n",
       "      <td>0.280042</td>\n",
       "      <td>0.762419</td>\n",
       "      <td>1.145071</td>\n",
       "    </tr>\n",
       "    <tr>\n",
       "      <th>Frequency</th>\n",
       "      <td>2064899.0</td>\n",
       "      <td>-4.954444e-13</td>\n",
       "      <td>1.0</td>\n",
       "      <td>-0.738370</td>\n",
       "      <td>-0.738370</td>\n",
       "      <td>-0.077782</td>\n",
       "      <td>0.390912</td>\n",
       "      <td>10.610745</td>\n",
       "    </tr>\n",
       "    <tr>\n",
       "      <th>Monetary</th>\n",
       "      <td>2064899.0</td>\n",
       "      <td>-1.752596e-15</td>\n",
       "      <td>1.0</td>\n",
       "      <td>-3.914664</td>\n",
       "      <td>-0.608968</td>\n",
       "      <td>-0.029956</td>\n",
       "      <td>0.661538</td>\n",
       "      <td>5.498270</td>\n",
       "    </tr>\n",
       "  </tbody>\n",
       "</table>\n",
       "</div>"
      ],
      "text/plain": [
       "               count          mean  std       min       25%       50%  \\\n",
       "Recency    2064899.0 -5.482345e-14  1.0 -3.068747 -0.487699  0.280042   \n",
       "Frequency  2064899.0 -4.954444e-13  1.0 -0.738370 -0.738370 -0.077782   \n",
       "Monetary   2064899.0 -1.752596e-15  1.0 -3.914664 -0.608968 -0.029956   \n",
       "\n",
       "                75%        max  \n",
       "Recency    0.762419   1.145071  \n",
       "Frequency  0.390912  10.610745  \n",
       "Monetary   0.661538   5.498270  "
      ]
     },
     "execution_count": 31,
     "metadata": {},
     "output_type": "execute_result"
    }
   ],
   "source": [
    "# show log scaled data properties\n",
    "pd.DataFrame(X_scaled_log, columns=X_subset_log.columns).describe().T"
   ]
  },
  {
   "cell_type": "code",
   "execution_count": 32,
   "metadata": {},
   "outputs": [
    {
     "data": {
      "text/html": [
       "<div>\n",
       "<style scoped>\n",
       "    .dataframe tbody tr th:only-of-type {\n",
       "        vertical-align: middle;\n",
       "    }\n",
       "\n",
       "    .dataframe tbody tr th {\n",
       "        vertical-align: top;\n",
       "    }\n",
       "\n",
       "    .dataframe thead th {\n",
       "        text-align: right;\n",
       "    }\n",
       "</style>\n",
       "<table border=\"1\" class=\"dataframe\">\n",
       "  <thead>\n",
       "    <tr style=\"text-align: right;\">\n",
       "      <th></th>\n",
       "      <th>Recency</th>\n",
       "      <th>Frequency</th>\n",
       "      <th>Monetary</th>\n",
       "    </tr>\n",
       "  </thead>\n",
       "  <tbody>\n",
       "    <tr>\n",
       "      <th>0</th>\n",
       "      <td>-1.380811</td>\n",
       "      <td>-0.738370</td>\n",
       "      <td>-1.314777</td>\n",
       "    </tr>\n",
       "    <tr>\n",
       "      <th>1</th>\n",
       "      <td>0.520011</td>\n",
       "      <td>-0.738370</td>\n",
       "      <td>-0.411152</td>\n",
       "    </tr>\n",
       "    <tr>\n",
       "      <th>2</th>\n",
       "      <td>0.393557</td>\n",
       "      <td>-0.738370</td>\n",
       "      <td>-0.213638</td>\n",
       "    </tr>\n",
       "    <tr>\n",
       "      <th>3</th>\n",
       "      <td>-0.827932</td>\n",
       "      <td>0.390912</td>\n",
       "      <td>0.383914</td>\n",
       "    </tr>\n",
       "    <tr>\n",
       "      <th>4</th>\n",
       "      <td>-0.063864</td>\n",
       "      <td>0.754460</td>\n",
       "      <td>0.543134</td>\n",
       "    </tr>\n",
       "  </tbody>\n",
       "</table>\n",
       "</div>"
      ],
      "text/plain": [
       "    Recency  Frequency  Monetary\n",
       "0 -1.380811  -0.738370 -1.314777\n",
       "1  0.520011  -0.738370 -0.411152\n",
       "2  0.393557  -0.738370 -0.213638\n",
       "3 -0.827932   0.390912  0.383914\n",
       "4 -0.063864   0.754460  0.543134"
      ]
     },
     "execution_count": 32,
     "metadata": {},
     "output_type": "execute_result"
    }
   ],
   "source": [
    "customer_data_scaled_log = pd.DataFrame(X_scaled_log, columns=X_subset_log.columns)\n",
    "customer_data_scaled_log.head()"
   ]
  },
  {
   "cell_type": "code",
   "execution_count": 33,
   "metadata": {},
   "outputs": [],
   "source": [
    "# Plot the data\n",
    "\n",
    "# fig = plt.figure(figsize=(20,14))\n",
    "# f1 = fig.add_subplot(221); sns.regplot(x='recency', y='monetary_value', data=customer_history_df_log)\n",
    "# f1 = fig.add_subplot(222); sns.regplot(x='frequency', y='monetary_value', data=customer_history_df_log)\n",
    "\n",
    "# fig = plt.figure(figsize=(15, 10))\n",
    "# ax = fig.add_subplot(111, projection='3d')\n",
    "\n",
    "# xs = customer_data_scaled_log.recency\n",
    "# ys = customer_data_scaled_log.frequency\n",
    "# zs = customer_data_scaled_log.monetary_value\n",
    "# ax.scatter(xs, ys, zs, s=5)\n",
    "\n",
    "# ax.set_xlabel('Recency')\n",
    "# ax.set_ylabel('Frequency')\n",
    "# ax.set_zlabel('Monetary Value')\n",
    "\n",
    "# plt.show()"
   ]
  },
  {
   "cell_type": "markdown",
   "metadata": {},
   "source": [
    "### Save the files"
   ]
  },
  {
   "cell_type": "code",
   "execution_count": 34,
   "metadata": {},
   "outputs": [],
   "source": [
    "customer_data_scaled_log.to_csv(path_or_buf= base_path+\"/customer_data_log_scaled.csv\", \n",
    "                                encoding = 'ISO-8859-1', \n",
    "                                index = False)"
   ]
  },
  {
   "cell_type": "code",
   "execution_count": 35,
   "metadata": {},
   "outputs": [],
   "source": [
    "customer_data_scaled.to_csv(path_or_buf= base_path+\"/customer_data.csv\", \n",
    "                             encoding = 'ISO-8859-1', \n",
    "                             index = False)"
   ]
  }
 ],
 "metadata": {
  "kernelspec": {
   "display_name": "Python 3",
   "language": "python",
   "name": "python3"
  },
  "language_info": {
   "codemirror_mode": {
    "name": "ipython",
    "version": 3
   },
   "file_extension": ".py",
   "mimetype": "text/x-python",
   "name": "python",
   "nbconvert_exporter": "python",
   "pygments_lexer": "ipython3",
   "version": "3.7.4"
  },
  "papermill": {
   "duration": 117.247901,
   "end_time": "2020-12-06T04:24:11.716522",
   "environment_variables": {},
   "exception": null,
   "input_path": "__notebook__.ipynb",
   "output_path": "__notebook__.ipynb",
   "parameters": {},
   "start_time": "2020-12-06T04:22:14.468621",
   "version": "2.1.0"
  }
 },
 "nbformat": 4,
 "nbformat_minor": 4
}
