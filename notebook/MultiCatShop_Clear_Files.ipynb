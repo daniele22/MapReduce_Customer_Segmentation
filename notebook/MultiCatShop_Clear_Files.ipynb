{
 "cells": [
  {
   "cell_type": "markdown",
   "id": "exceptional-topic",
   "metadata": {},
   "source": [
    "This notebook is used to remove some useless information from Multi Category Shop dataset, this is needed because without cleaning the size of the files would be too large and processing them would take too long."
   ]
  },
  {
   "cell_type": "code",
   "execution_count": 1,
   "id": "driven-tackle",
   "metadata": {},
   "outputs": [],
   "source": [
    "import pandas as pd\n",
    "import plotly.express as px \n",
    "import os\n",
    "import matplotlib.pyplot as plt\n",
    "import missingno as msno\n",
    "import datetime\n",
    "from plotly import graph_objects as go\n",
    "from plotly.subplots import make_subplots\n",
    "import random\n",
    "from scipy import stats\n",
    "import seaborn as sns"
   ]
  },
  {
   "cell_type": "code",
   "execution_count": 2,
   "id": "endless-chester",
   "metadata": {},
   "outputs": [],
   "source": [
    "import pathlib\n",
    "base_path = str(pathlib.Path().resolve())"
   ]
  },
  {
   "cell_type": "code",
   "execution_count": 3,
   "id": "sensitive-saskatchewan",
   "metadata": {},
   "outputs": [
    {
     "name": "stdout",
     "output_type": "stream",
     "text": [
      "i:  0\n",
      "End  0\n"
     ]
    }
   ],
   "source": [
    "files_csv=['/archive_complete/2019-Oct.csv', \n",
    "           '/archive_complete/2019-Nov.csv',\n",
    "           '/archive_complete/2019-Dec.csv',\n",
    "           '/archive_complete/2020-Jan.csv',\n",
    "           '/archive_complete/2020-Feb.csv',\n",
    "           '/archive_complete/2020-Mar.csv',\n",
    "           '/archive_complete/2020-Apr.csv'\n",
    "]\n",
    "#for dirname, _, filenames in os.walk('/kaggle/input'):\n",
    "#    for filename in filenames:\n",
    "#        files_csv.append(os.path.join(dirname, filename))\n",
    "        \n",
    "# create Pandas dataframes and add the column \"month\"\n",
    "for i in range(len(files_csv)):\n",
    "    print(\"i: \", i)\n",
    "    df_i = pd.read_csv(base_path + files_csv[i])\n",
    "    df_i = df_i[df_i['event_type'] == 'purchase'] # \"category_code\", \"brand\", \"product_id\", \"category_id\", and \"user_session\"\n",
    "    df_i = df_i.drop(['user_session', 'product_id', 'category_id', 'category_code', 'brand'], axis=1)\n",
    "    filename = \"dataframe\"+ str(i) +\".csv\"\n",
    "    df_i.to_csv(filename, index=False)\n",
    "    print(\"End \", i)"
   ]
  },
  {
   "cell_type": "code",
   "execution_count": null,
   "id": "frank-transfer",
   "metadata": {},
   "outputs": [],
   "source": []
  }
 ],
 "metadata": {
  "kernelspec": {
   "display_name": "Python 3",
   "language": "python",
   "name": "python3"
  },
  "language_info": {
   "codemirror_mode": {
    "name": "ipython",
    "version": 3
   },
   "file_extension": ".py",
   "mimetype": "text/x-python",
   "name": "python",
   "nbconvert_exporter": "python",
   "pygments_lexer": "ipython3",
   "version": "3.7.4"
  }
 },
 "nbformat": 4,
 "nbformat_minor": 5
}
